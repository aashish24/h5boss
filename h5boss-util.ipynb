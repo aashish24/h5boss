{
 "cells": [
  {
   "cell_type": "code",
   "execution_count": 3,
   "metadata": {
    "collapsed": true
   },
   "outputs": [],
   "source": [
    "import sys, os\n",
    "import numpy as np\n",
    "from astropy.io import fits\n",
    "from astropy.table import Table\n",
    "import h5boss.io\n",
    "import h5boss.boss2hdf5\n",
    "import time\n",
    "datapath = \"/global/projecta/projectdirs/sdss/data/sdss/dr12/boss/spectro/redux/v5_7_0/\"\n",
    "outputpath= \"/global/cscratch1/sd/jialin/h5boss/\"\n",
    "nproc = 10\n",
    "rank = 1\n",
    "def listfiles():\n",
    "     ldir=os.listdir(datapath)\n",
    "     lldir=[fn for fn in ldir if fn.isdigit()]\n",
    "     return lldir\n",
    "\n",
    "def findseed(x):\n",
    "     fitsfiles = [os.path.join(root, name)\n",
    "       for root, dirs, files in os.walk(x)\n",
    "       for name in files\n",
    "       if name.startswith(\"spPlate\") and name.endswith(\".fits\")]\n",
    "     return fitsfiles\n",
    "def parallel_convert():\n",
    "    plateslist=listfiles()\n",
    "    plateslist_for_each_process = [fname for fname in plateslist[:nproc]]\n",
    "    platepath_for_current_rank = datapath+plateslist_for_each_process[rank]\n",
    "    fitspath_name_for_current_rank = findseed(platepath_for_current_rank)\n",
    "    hdf5file=fitspath_name_for_current_rank[0].split('/')[-1].replace('spPlate-','',1).replace('fits','h5',1)\n",
    "    h5boss.boss2hdf5.serial_convert(fitspath_name_for_current_rank[0],outputpath+hdf5file)"
   ]
  },
  {
   "cell_type": "code",
   "execution_count": 4,
   "metadata": {
    "collapsed": false
   },
   "outputs": [
    {
     "name": "stdout",
     "output_type": "stream",
     "text": [
      "rm: cannot remove `/global/cscratch1/sd/jialin/h5boss/5802-56309.h5': No such file or directory\r\n"
     ]
    }
   ],
   "source": [
    "rm /global/cscratch1/sd/jialin/h5boss/5802-56309.h5"
   ]
  },
  {
   "cell_type": "code",
   "execution_count": 1,
   "metadata": {
    "collapsed": false
   },
   "outputs": [
    {
     "name": "stdout",
     "output_type": "stream",
     "text": [
      "\u001b[0m\u001b[01;32mcori-setup\u001b[0m*  \u001b[01;34mh5boss_py\u001b[0m/       h5boss-util.ipynb\r\n",
      "\u001b[01;34mh5boss_c\u001b[0m/    h5boss-util.eml  README.md\r\n",
      "\u001b[m"
     ]
    }
   ],
   "source": [
    "ls"
   ]
  },
  {
   "cell_type": "code",
   "execution_count": 2,
   "metadata": {
    "collapsed": false
   },
   "outputs": [
    {
     "name": "stdout",
     "output_type": "stream",
     "text": [
      "/global/u1/j/jialin/h5boss-util/h5boss_py/scripts\n"
     ]
    }
   ],
   "source": [
    "cd h5boss_py/scripts\n"
   ]
  },
  {
   "cell_type": "code",
   "execution_count": 3,
   "metadata": {
    "collapsed": false
   },
   "outputs": [
    {
     "name": "stdout",
     "output_type": "stream",
     "text": [
      "\u001b[0m\u001b[01;32madd\u001b[0m*        \u001b[01;32mboss2hdf5\u001b[0m*              input       mjdfile    \u001b[01;32msubmit.sh\u001b[0m*\r\n",
      "badfile     \u001b[01;32mboss2hdf5-parallel.py\u001b[0m*  input-ful   platefile  \u001b[01;32msubset\u001b[0m*\r\n",
      "\u001b[01;32mboss2fits\u001b[0m*  fiberfile               input-full  \u001b[01;32mpmf\u001b[0m*       \u001b[01;32mupdate\u001b[0m*\r\n",
      "\u001b[m"
     ]
    }
   ],
   "source": [
    "ls"
   ]
  },
  {
   "cell_type": "code",
   "execution_count": 6,
   "metadata": {
    "collapsed": false
   },
   "outputs": [
    {
     "name": "stdout",
     "output_type": "stream",
     "text": [
      "\u001b[0m\u001b[01;32madd\u001b[0m*        \u001b[01;32mboss2hdf5\u001b[0m*              input       input-name  \u001b[01;32mpmf\u001b[0m*        \u001b[01;32mupdate\u001b[0m*\r\n",
      "badfile     \u001b[01;32mboss2hdf5-parallel.py\u001b[0m*  input-ful   mjdfile     \u001b[01;32msubmit.sh\u001b[0m*\r\n",
      "\u001b[01;32mboss2fits\u001b[0m*  fiberfile               input-full  platefile   \u001b[01;32msubset\u001b[0m*\r\n",
      "\u001b[m"
     ]
    }
   ],
   "source": [
    "ls"
   ]
  },
  {
   "cell_type": "code",
   "execution_count": 5,
   "metadata": {
    "collapsed": false
   },
   "outputs": [
    {
     "name": "stdout",
     "output_type": "stream",
     "text": [
      "\u001b[0m\u001b[01;32madd\u001b[0m*        \u001b[01;32mboss2hdf5\u001b[0m*              input       input-name  \u001b[01;32mpmf\u001b[0m*        \u001b[01;32mupdate\u001b[0m*\r\n",
      "badfile     \u001b[01;32mboss2hdf5-parallel.py\u001b[0m*  input-ful   mjdfile     \u001b[01;32msubmit.sh\u001b[0m*\r\n",
      "\u001b[01;32mboss2fits\u001b[0m*  fiberfile               input-full  platefile   \u001b[01;32msubset\u001b[0m*\r\n",
      "\u001b[m"
     ]
    }
   ],
   "source": [
    "ls"
   ]
  },
  {
   "cell_type": "code",
   "execution_count": 7,
   "metadata": {
    "collapsed": false
   },
   "outputs": [
    {
     "name": "stdout",
     "output_type": "stream",
     "text": [
      "#!/usr/bin/env python\r\n",
      "\"\"\"\r\n",
      "Create an HDF5 file from BOSS data\r\n",
      "\r\n",
      "TODO:\r\n",
      "  - include comments in meta/attrs\r\n",
      "  - platelist quantities\r\n",
      "\"\"\"\r\n",
      "from __future__ import division, print_function\r\n",
      "#from __future__ import absolute_import\r\n",
      "from h5boss.select import select\r\n",
      "import sys,os\r\n",
      "import time\r\n",
      "import optparse\r\n",
      "import csv\r\n",
      "import traceback\r\n",
      "\r\n",
      "parser = optparse.OptionParser(usage = \"%prog [options]\")\r\n",
      "parser.add_option(\"-i\", \"--input\", type=str,  help=\"input subselected file\")\r\n",
      "parser.add_option(\"-o\", \"--output\", type=str,  help=\"output hdf5 file\")\r\n",
      "parser.add_option(\"-p\", \"--plate\", type=str,  help=\"plates csv file\")\r\n",
      "parser.add_option(\"-m\", \"--mjd\", type=str,  help=\"mjds csv file\")\r\n",
      "parser.add_option(\"-f\", \"--fiber\", type=str,  help=\"fibers csv file\")\r\n",
      "\r\n",
      "opts, args = parser.parse_args()\r\n",
      "\r\n",
      "platefile = opts.plate\r\n",
      "mjdfile = opts.mjd\r\n",
      "fiberfile = opts.fiber\r\n",
      "infiles = opts.input\r\n",
      "outfile = opts.output\r\n",
      "tstart=time.time()\r\n",
      "try: \r\n",
      " with open(platefile, 'rb') as f:\r\n",
      "  reader = csv.reader(f)\r\n",
      "  plates = list(reader)\r\n",
      "\r\n",
      "except Exception, e:\r\n",
      "  print (\"CSV file open error: %s \"%e,plates)\r\n",
      "  traceback.print_exc()\r\n",
      "\r\n",
      "try:\r\n",
      " with open(mjdfile,'rb') as f:\r\n",
      "  reader = csv.reader(f)\r\n",
      "  mjds = list(reader)\r\n",
      "\r\n",
      "except Exception, e:\r\n",
      " print (\"CSV file open error: %s\"%e,mjdfile)\r\n",
      " traceback.print_exc()\r\n",
      "\r\n",
      "try:\r\n",
      " with open(fiberfile,'rb') as f:\r\n",
      "  reader = csv.reader(f)\r\n",
      "  fibers = list(reader)\r\n",
      "\r\n",
      "except Exception, e:\r\n",
      " print (\"CSV file open error: %s\"%e,fiberfile)\r\n",
      " traceback.print_exc()\r\n",
      "\r\n",
      "\r\n",
      "try:\r\n",
      " with open(infiles,'rb') as f:\r\n",
      "  reader = csv.reader(f)\r\n",
      "  infile = list(reader)\r\n",
      "\r\n",
      "except Exception, e:\r\n",
      " print (\"CSV file open error: %s\"%e,infiles)\r\n",
      " traceback.print_exc()\r\n",
      "\r\n",
      "infile = [x for sublist in infile for x in sublist]\r\n",
      "fibers = [x for sublist in fibers for x in sublist]\r\n",
      "plates = [x for sublist in plates for x in sublist]\r\n",
      "mjds = [x for sublist in mjds for x in sublist]\r\n",
      "\r\n",
      "print (\"Plates: \",plates)\r\n",
      "print (\"MJDs: \",mjds)\r\n",
      "print (\"Fibers: \", fibers)\r\n",
      "print (\"Input: \",infile)\r\n",
      "print (\"Output: \", outfile)\r\n",
      "print (\"Run selecting...\")\r\n",
      "\r\n",
      "try:\r\n",
      " select(infile, outfile, plates, mjds, fibers)\r\n",
      "\r\n",
      "except Exception, e:\r\n",
      " print (\"Error in select:\")\r\n",
      " traceback.print_exc()\r\n",
      "print (\"Done selection\")\r\n"
     ]
    }
   ],
   "source": [
    "cat subset"
   ]
  },
  {
   "cell_type": "code",
   "execution_count": 88,
   "metadata": {
    "collapsed": false
   },
   "outputs": [
    {
     "ename": "IOError",
     "evalue": "Unable to open file (Unable to open file: name = '/global/cscratch1/sd/jialin/h5boss/4229-55501.hdf5', errno = 2, error message = 'no such file or directory', flags = 0, o_flags = 0)",
     "output_type": "error",
     "traceback": [
      "\u001b[1;31m---------------------------------------------------------------------------\u001b[0m",
      "\u001b[1;31mIOError\u001b[0m                                   Traceback (most recent call last)",
      "\u001b[1;32m<ipython-input-88-796b8697136c>\u001b[0m in \u001b[0;36m<module>\u001b[1;34m()\u001b[0m\n\u001b[0;32m     59\u001b[0m \u001b[1;31m#fx = h5py.File(check_files[i],mode='r')\u001b[0m\u001b[1;33m\u001b[0m\u001b[1;33m\u001b[0m\u001b[0m\n\u001b[0;32m     60\u001b[0m \u001b[0mcheck_files\u001b[0m\u001b[1;33m[\u001b[0m\u001b[1;36m10\u001b[0m\u001b[1;33m]\u001b[0m\u001b[1;33m\u001b[0m\u001b[0m\n\u001b[1;32m---> 61\u001b[1;33m \u001b[0mfx\u001b[0m \u001b[1;33m=\u001b[0m \u001b[0mh5py\u001b[0m\u001b[1;33m.\u001b[0m\u001b[0mFile\u001b[0m\u001b[1;33m(\u001b[0m\u001b[1;34m'/global/cscratch1/sd/jialin/h5boss/4229-55501.hdf5'\u001b[0m\u001b[1;33m,\u001b[0m\u001b[0mmode\u001b[0m\u001b[1;33m=\u001b[0m\u001b[1;34m'r'\u001b[0m\u001b[1;33m)\u001b[0m\u001b[1;33m\u001b[0m\u001b[0m\n\u001b[0m",
      "\u001b[1;32m//anaconda/lib/python2.7/site-packages/h5py/_hl/files.pyc\u001b[0m in \u001b[0;36m__init__\u001b[1;34m(self, name, mode, driver, libver, userblock_size, swmr, **kwds)\u001b[0m\n\u001b[0;32m    258\u001b[0m \u001b[1;33m\u001b[0m\u001b[0m\n\u001b[0;32m    259\u001b[0m                 \u001b[0mfapl\u001b[0m \u001b[1;33m=\u001b[0m \u001b[0mmake_fapl\u001b[0m\u001b[1;33m(\u001b[0m\u001b[0mdriver\u001b[0m\u001b[1;33m,\u001b[0m \u001b[0mlibver\u001b[0m\u001b[1;33m,\u001b[0m \u001b[1;33m**\u001b[0m\u001b[0mkwds\u001b[0m\u001b[1;33m)\u001b[0m\u001b[1;33m\u001b[0m\u001b[0m\n\u001b[1;32m--> 260\u001b[1;33m                 \u001b[0mfid\u001b[0m \u001b[1;33m=\u001b[0m \u001b[0mmake_fid\u001b[0m\u001b[1;33m(\u001b[0m\u001b[0mname\u001b[0m\u001b[1;33m,\u001b[0m \u001b[0mmode\u001b[0m\u001b[1;33m,\u001b[0m \u001b[0muserblock_size\u001b[0m\u001b[1;33m,\u001b[0m \u001b[0mfapl\u001b[0m\u001b[1;33m,\u001b[0m \u001b[0mswmr\u001b[0m\u001b[1;33m=\u001b[0m\u001b[0mswmr\u001b[0m\u001b[1;33m)\u001b[0m\u001b[1;33m\u001b[0m\u001b[0m\n\u001b[0m\u001b[0;32m    261\u001b[0m \u001b[1;33m\u001b[0m\u001b[0m\n\u001b[0;32m    262\u001b[0m                 \u001b[1;32mif\u001b[0m \u001b[0mswmr_support\u001b[0m\u001b[1;33m:\u001b[0m\u001b[1;33m\u001b[0m\u001b[0m\n",
      "\u001b[1;32m//anaconda/lib/python2.7/site-packages/h5py/_hl/files.pyc\u001b[0m in \u001b[0;36mmake_fid\u001b[1;34m(name, mode, userblock_size, fapl, fcpl, swmr)\u001b[0m\n\u001b[0;32m     87\u001b[0m         \u001b[1;32mif\u001b[0m \u001b[0mswmr\u001b[0m \u001b[1;32mand\u001b[0m \u001b[0mswmr_support\u001b[0m\u001b[1;33m:\u001b[0m\u001b[1;33m\u001b[0m\u001b[0m\n\u001b[0;32m     88\u001b[0m             \u001b[0mflags\u001b[0m \u001b[1;33m|=\u001b[0m \u001b[0mh5f\u001b[0m\u001b[1;33m.\u001b[0m\u001b[0mACC_SWMR_READ\u001b[0m\u001b[1;33m\u001b[0m\u001b[0m\n\u001b[1;32m---> 89\u001b[1;33m         \u001b[0mfid\u001b[0m \u001b[1;33m=\u001b[0m \u001b[0mh5f\u001b[0m\u001b[1;33m.\u001b[0m\u001b[0mopen\u001b[0m\u001b[1;33m(\u001b[0m\u001b[0mname\u001b[0m\u001b[1;33m,\u001b[0m \u001b[0mflags\u001b[0m\u001b[1;33m,\u001b[0m \u001b[0mfapl\u001b[0m\u001b[1;33m=\u001b[0m\u001b[0mfapl\u001b[0m\u001b[1;33m)\u001b[0m\u001b[1;33m\u001b[0m\u001b[0m\n\u001b[0m\u001b[0;32m     90\u001b[0m     \u001b[1;32melif\u001b[0m \u001b[0mmode\u001b[0m \u001b[1;33m==\u001b[0m \u001b[1;34m'r+'\u001b[0m\u001b[1;33m:\u001b[0m\u001b[1;33m\u001b[0m\u001b[0m\n\u001b[0;32m     91\u001b[0m         \u001b[0mfid\u001b[0m \u001b[1;33m=\u001b[0m \u001b[0mh5f\u001b[0m\u001b[1;33m.\u001b[0m\u001b[0mopen\u001b[0m\u001b[1;33m(\u001b[0m\u001b[0mname\u001b[0m\u001b[1;33m,\u001b[0m \u001b[0mh5f\u001b[0m\u001b[1;33m.\u001b[0m\u001b[0mACC_RDWR\u001b[0m\u001b[1;33m,\u001b[0m \u001b[0mfapl\u001b[0m\u001b[1;33m=\u001b[0m\u001b[0mfapl\u001b[0m\u001b[1;33m)\u001b[0m\u001b[1;33m\u001b[0m\u001b[0m\n",
      "\u001b[1;32mh5py/_objects.pyx\u001b[0m in \u001b[0;36mh5py._objects.with_phil.wrapper (/home/ilan/minonda/conda-bld/work/h5py/_objects.c:2579)\u001b[1;34m()\u001b[0m\n",
      "\u001b[1;32mh5py/_objects.pyx\u001b[0m in \u001b[0;36mh5py._objects.with_phil.wrapper (/home/ilan/minonda/conda-bld/work/h5py/_objects.c:2538)\u001b[1;34m()\u001b[0m\n",
      "\u001b[1;32mh5py/h5f.pyx\u001b[0m in \u001b[0;36mh5py.h5f.open (/home/ilan/minonda/conda-bld/work/h5py/h5f.c:1816)\u001b[1;34m()\u001b[0m\n",
      "\u001b[1;31mIOError\u001b[0m: Unable to open file (Unable to open file: name = '/global/cscratch1/sd/jialin/h5boss/4229-55501.hdf5', errno = 2, error message = 'no such file or directory', flags = 0, o_flags = 0)"
     ]
    }
   ],
   "source": [
    "import sys,os\n",
    "import time\n",
    "import optparse\n",
    "import csv\n",
    "import traceback\n",
    "import random\n",
    "import h5py\n",
    "testnumber=50\n",
    "infile='input-name'\n",
    "infiles='input-full'\n",
    "try:\n",
    " with open(infile,'rb') as f:\n",
    "  reader = csv.reader(f)\n",
    "  infile = list(reader)\n",
    "\n",
    "except Exception, e:\n",
    " print (\"CSV file open error: %s\"%e,infiles)\n",
    " traceback.print_exc()\n",
    "infile = [x for sublist in infile for x in sublist]\n",
    "try:\n",
    " with open(infiles,'rb') as f:\n",
    "  reader = csv.reader(f)\n",
    "  infiles = list(reader)\n",
    "\n",
    "except Exception, e:\n",
    " print (\"CSV file open error: %s\"%e,infiles)\n",
    " traceback.print_exc()\n",
    "\n",
    "\n",
    "len(infiles)\n",
    "len(infile)\n",
    "def filter0(x):\n",
    "    return x.split('.')[0]\n",
    "def filter1(x):\n",
    "    return x.split('-')[0]\n",
    "def filter2(x):\n",
    "    return x.split('-')[1]\n",
    "infile=map(filter0,infile)\n",
    "plates=map(filter1,infile)\n",
    "mjds=map(filter2,infile)\n",
    "assert(len(plates)==len(mjds))\n",
    "rd=sorted(random.sample(xrange(0, len(infile)), testnumber))\n",
    "select_plates=list()\n",
    "select_mjds=list()\n",
    "select_fibers=list()\n",
    "select_files=list()\n",
    "for i in rd:\n",
    "    select_plates.append(plates[i])\n",
    "    select_mjds.append(mjds[i])\n",
    "    select_files.append(infiles[i])\n",
    "\n",
    "for i in range(0,testnumber):\n",
    "    try:\n",
    "     fx = h5py.File(select_files[i],mode='r')\n",
    "     d_fiber=fx[select_plates[i]][select_mjds[i]].keys()\n",
    "     item_fiter='u'\n",
    "     while not item_fiber.isdigit():\n",
    "            item_fiber=random.choice(d_fiber)\n",
    "     select_fibers.append(item_fiter)\n",
    "assert (len(select_fibers)==len(select_plates))\n",
    "assert (len(select_fibers)==len(select_mjds))\n",
    "\n",
    "plates_file = 'test_plates'\n",
    "mjds_file = 'test_mjds'\n",
    "fiber_file = 'test_fibers'\n",
    "with open(plates_file, \"wb\") as f:\n",
    "    f.writelines([\"%s\\n\" % item  for item in select_plates])\n",
    "with open(mjds_file,\"wb\") as f:\n",
    "    f.writelines([\"%s\\n\" % item  for item in select_mjds])\n",
    "with open(fiber_file,\"wb\") as f:\n",
    "    f.writelines([\"%s\\n\" % item  for item in select_fibers])"
   ]
  },
  {
   "cell_type": "code",
   "execution_count": null,
   "metadata": {
    "collapsed": true
   },
   "outputs": [],
   "source": []
  }
 ],
 "metadata": {
  "kernelspec": {
   "display_name": "Python 2",
   "language": "python",
   "name": "python2"
  },
  "language_info": {
   "codemirror_mode": {
    "name": "ipython",
    "version": 2
   },
   "file_extension": ".py",
   "mimetype": "text/x-python",
   "name": "python",
   "nbconvert_exporter": "python",
   "pygments_lexer": "ipython2",
   "version": "2.7.11"
  }
 },
 "nbformat": 4,
 "nbformat_minor": 0
}
