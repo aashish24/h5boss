{
 "cells": [
  {
   "cell_type": "code",
   "execution_count": 3,
   "metadata": {},
   "outputs": [],
   "source": [
    "import sys, os\n",
    "import numpy as np\n",
    "from astropy.io import fits\n",
    "from astropy.table import Table\n",
    "import h5boss.io\n",
    "import h5boss.boss2hdf5\n",
    "import time\n",
    "datapath = \"/global/projecta/projectdirs/sdss/data/sdss/dr12/boss/spectro/redux/v5_7_0/\"\n",
    "outputpath= \"/global/cscratch1/sd/jialin/h5boss/\"\n",
    "nproc = 10\n",
    "rank = 1\n",
    "def listfiles():\n",
    "     ldir=os.listdir(datapath)\n",
    "     lldir=[fn for fn in ldir if fn.isdigit()]\n",
    "     return lldir\n",
    "\n",
    "def findseed(x):\n",
    "     fitsfiles = [os.path.join(root, name)\n",
    "       for root, dirs, files in os.walk(x)\n",
    "       for name in files\n",
    "       if name.startswith(\"spPlate\") and name.endswith(\".fits\")]\n",
    "     return fitsfiles\n",
    "def parallel_convert():\n",
    "    plateslist=listfiles()\n",
    "    plateslist_for_each_process = [fname for fname in plateslist[:nproc]]\n",
    "    platepath_for_current_rank = datapath+plateslist_for_each_process[rank]\n",
    "    fitspath_name_for_current_rank = findseed(platepath_for_current_rank)\n",
    "    hdf5file=fitspath_name_for_current_rank[0].split('/')[-1].replace('spPlate-','',1).replace('fits','h5',1)\n",
    "    h5boss.boss2hdf5.serial_convert(fitspath_name_for_current_rank[0],outputpath+hdf5file)"
   ]
  },
  {
   "cell_type": "code",
   "execution_count": 4,
   "metadata": {},
   "outputs": [
    {
     "name": "stdout",
     "output_type": "stream",
     "text": [
      "rm: cannot remove `/global/cscratch1/sd/jialin/h5boss/5802-56309.h5': No such file or directory\r\n"
     ]
    }
   ],
   "source": [
    "rm /global/cscratch1/sd/jialin/h5boss/5802-56309.h5"
   ]
  },
  {
   "cell_type": "code",
   "execution_count": null,
   "metadata": {},
   "outputs": [],
   "source": [
    ""
   ]
  }
 ],
 "metadata": {
  "kernelspec": {
   "display_name": "Python 2",
   "language": "python",
   "name": "python2"
  },
  "language_info": {
   "codemirror_mode": {
    "name": "ipython",
    "version": 2.0
   },
   "file_extension": ".py",
   "mimetype": "text/x-python",
   "name": "python",
   "nbconvert_exporter": "python",
   "pygments_lexer": "ipython2",
   "version": "2.7.11"
  }
 },
 "nbformat": 4,
 "nbformat_minor": 0
}